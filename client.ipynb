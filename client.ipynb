{
 "cells": [
  {
   "cell_type": "code",
   "execution_count": null,
   "metadata": {},
   "outputs": [],
   "source": [
    "import socket\n",
    "\n",
    "# server's IP address and port number\n",
    "HOST = '127.0.0.1'\n",
    "PORT = 4337\n",
    "\n",
    "# the client socket created \n",
    "with socket.socket(socket.AF_INET, socket.SOCK_STREAM) as s:\n",
    "    # server connection\n",
    "    s.connect((HOST, PORT))\n",
    "    print(\"Connected to server.\")\n",
    "\n",
    "    #  the first letter of the word received\n",
    "    first_letter = s.recv(1024).decode()\n",
    "    print(\"First letter of the word to guess:\", first_letter)\n",
    "    \n",
    "    guess_attempts = 5\n",
    "    \n",
    "    # continuing until a correct guess is made or there are no more attempts left\n",
    "    while guess_attempts > 0:\n",
    "        guess = input(\"Enter your guess: \").upper()  # Convert guess to uppercase\n",
    "        print(\"Your guess:\", guess)\n",
    "        \n",
    "        #  the guess to the server sent\n",
    "        s.sendall(guess.encode())\n",
    "        \n",
    "        # the response from the server received\n",
    "        response = s.recv(1024).decode()\n",
    "        print(\"The response: \", response)\n",
    "        \n",
    "        # exiting the loop if correct guess or no more attempts left\n",
    "        if response == \"Congratulations, it is the correct answer.\" or response == \"You couldn't guess\":\n",
    "            break\n",
    "        \n",
    "        guess_attempts -= 1\n",
    "        print(\"Remaining attempts:\", guess_attempts)\n",
    "\n",
    "    # no more attempts left\n",
    "    if guess_attempts == 0:\n",
    "        print(\"You have exhausted your guess attempts.\")"
   ]
  }
 ],
 "metadata": {
  "kernelspec": {
   "display_name": "base",
   "language": "python",
   "name": "python3"
  },
  "language_info": {
   "codemirror_mode": {
    "name": "ipython",
    "version": 3
   },
   "file_extension": ".py",
   "mimetype": "text/x-python",
   "name": "python",
   "nbconvert_exporter": "python",
   "pygments_lexer": "ipython3",
   "version": "3.11.5"
  }
 },
 "nbformat": 4,
 "nbformat_minor": 2
}
