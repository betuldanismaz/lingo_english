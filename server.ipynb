{
 "cells": [
  {
   "cell_type": "code",
   "execution_count": null,
   "metadata": {},
   "outputs": [],
   "source": [
    "import socket\n",
    "import random\n",
    "\n",
    "# the words\n",
    "words = [\"CURE\", \"EAST\", \"TEAR\", \"SALE\", \"FAIR\"]\n",
    "\n",
    "# Server's IP address and port number\n",
    "HOST = '127.0.0.1'\n",
    "PORT = 4337\n",
    "\n",
    "# random word selection\n",
    "selected_word = random.choice(words)\n",
    "\n",
    "# the server listening socket created here\n",
    "with socket.socket(socket.AF_INET, socket.SOCK_STREAM) as s:\n",
    "    s.bind((HOST, PORT))\n",
    "    s.listen()\n",
    "    print(\"Server is listening...\")\n",
    "\n",
    "    # the connection accepted\n",
    "    conn, addr = s.accept()\n",
    "    with conn:\n",
    "        print('Connected by:', addr)\n",
    "\n",
    "        # the first letter of the word sent\n",
    "        conn.sendall(selected_word[0].encode())\n",
    "        print(\"First letter sent to client:\", selected_word[0])\n",
    "\n",
    "        guess_attempts = 5\n",
    "\n",
    "        # continues until a correct guess is made or there are no more attempts left\n",
    "        while guess_attempts > 0:\n",
    "            guess = conn.recv(1024).decode()\n",
    "            print(\"Received guess from client:\", guess)\n",
    "\n",
    "            if guess.upper() == selected_word:\n",
    "                # if the guess is correct\n",
    "                conn.sendall(\"Congratulations, it is the correct answer.\".encode())\n",
    "                print(\"Correct guess made by client.\")\n",
    "                break\n",
    "            else:\n",
    "                # if the guessed letter is incorrect, replace it with '*' in the correct letters string\n",
    "                correct_letters = \"\"\n",
    "                for i in range(len(selected_word)):\n",
    "                    if guess[i].upper() == selected_word[i]:\n",
    "                        correct_letters += guess[i]\n",
    "                    else:\n",
    "                        correct_letters += '*'\n",
    "                conn.sendall(correct_letters.encode())\n",
    "                guess_attempts -= 1\n",
    "                print(\"Incorrect guess. Remaining attempts:\", guess_attempts)\n",
    "\n",
    "        # no more attempts left\n",
    "        if guess_attempts == 0:\n",
    "            conn.sendall(\"You couldn't guess\".encode())\n",
    "            print(\"No more attempts left.\")\n"
   ]
  }
 ],
 "metadata": {
  "kernelspec": {
   "display_name": "base",
   "language": "python",
   "name": "python3"
  },
  "language_info": {
   "codemirror_mode": {
    "name": "ipython",
    "version": 3
   },
   "file_extension": ".py",
   "mimetype": "text/x-python",
   "name": "python",
   "nbconvert_exporter": "python",
   "pygments_lexer": "ipython3",
   "version": "3.11.5"
  }
 },
 "nbformat": 4,
 "nbformat_minor": 2
}
